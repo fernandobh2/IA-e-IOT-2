{
  "cells": [
    {
      "cell_type": "code",
      "source": [
        "# 1- Importe o módulo statistics e crie uma lista com 14 elementos em ordem crescente.\n",
        "import statistics\n",
        "\n",
        "dados = [10, 12, 14, 15, 17, 18, 20, 21, 23, 25, 27, 28, 30, 32]\n",
        "print(\"1 - Lista de dados:\", dados)\n",
        "\n",
        "# 2- Calcule a média e a mediana dos valores usando o módulo completo.\n",
        "media = statistics.mean(dados)\n",
        "mediana = statistics.median(dados)\n",
        "\n",
        "print(\"2 - Média (usando statistics):\", media)\n",
        "print(\"2 - Mediana (usando statistics):\", mediana)\n",
        "\n",
        "# 3- Use um alias (apelido) para o módulo statistics e refaça os cálculos.\n",
        "import statistics as st\n",
        "\n",
        "media_alias = st.mean(dados)\n",
        "mediana_alias = st.median(dados)\n",
        "\n",
        "print(\"3 - Média (usando alias):\", media_alias)\n",
        "print(\"3 - Mediana (usando alias):\", mediana_alias)\n",
        "\n",
        "# 4- Importe apenas as funções mean e median do módulo statistics e refaça os cálculos.\n",
        "from statistics import mean, median\n",
        "\n",
        "media_func = mean(dados)\n",
        "mediana_func = median(dados)\n",
        "\n",
        "print(\"4 - Média (usando funções importadas):\", media_func)\n",
        "print(\"4 - Mediana (usando funções importadas):\", mediana_func)\n",
        "\n",
        "# 5- Importe todas as funções do módulo statistics e calcule novamente a média e a mediana da lista.\n",
        "from statistics import *\n",
        "\n",
        "media_all = mean(dados)\n",
        "mediana_all = median(dados)\n",
        "\n",
        "print(\"5 - Média (usando import *):\", media_all)\n",
        "print(\"5 - Mediana (usando import *):\", mediana_all)\n"
      ],
      "metadata": {
        "id": "YaffGkM1AHe2",
        "outputId": "4810115e-b68c-4f71-af18-7f0a2b0b9043",
        "colab": {
          "base_uri": "https://localhost:8080/"
        }
      },
      "execution_count": 3,
      "outputs": [
        {
          "output_type": "stream",
          "name": "stdout",
          "text": [
            "1 - Lista de dados: [10, 12, 14, 15, 17, 18, 20, 21, 23, 25, 27, 28, 30, 32]\n",
            "2 - Média (usando statistics): 20.857142857142858\n",
            "2 - Mediana (usando statistics): 20.5\n",
            "3 - Média (usando alias): 20.857142857142858\n",
            "3 - Mediana (usando alias): 20.5\n",
            "4 - Média (usando funções importadas): 20.857142857142858\n",
            "4 - Mediana (usando funções importadas): 20.5\n",
            "5 - Média (usando import *): 20.857142857142858\n",
            "5 - Mediana (usando import *): 20.5\n"
          ]
        }
      ]
    }
  ],
  "metadata": {
    "colab": {
      "name": "Conheça o Colab",
      "provenance": []
    },
    "kernelspec": {
      "display_name": "Python 3",
      "name": "python3"
    }
  },
  "nbformat": 4,
  "nbformat_minor": 0
}